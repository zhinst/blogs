{
 "cells": [
  {
   "cell_type": "markdown",
   "id": "2f23694e",
   "metadata": {},
   "source": [
    "# How to Measure Allan Variance with Zurich Instruments Lock-in Amplifiers\n",
    "The script implements measurement of Allan Deviation, as described in the relative [blog post](https://www.zhinst.com/blogs/How-to-Measure-Allan-Variance-with-Zurich-Instruments-Lock-in-Amplifier)\n",
    "\n",
    "Copyright (C) 2023 Zurich Instruments\n",
    "\n",
    "This software may be modified and distributed under the terms of the MIT license. See the LICENSE file for details."
   ]
  },
  {
   "cell_type": "code",
   "execution_count": null,
   "id": "a035882c",
   "metadata": {},
   "outputs": [],
   "source": [
    "# Import libraries\n",
    "\n",
    "import numpy as np\n",
    "from zhinst.toolkit import Session\n",
    "import allantools\n",
    "import matplotlib as mpl\n",
    "import matplotlib.pyplot as plt\n",
    "import datetime\n",
    "\n",
    "import pickle\n",
    "from itertools import chain"
   ]
  },
  {
   "cell_type": "markdown",
   "id": "12e42e54",
   "metadata": {},
   "source": [
    "## Connect to the Zurich Instruments lock-in amplifer"
   ]
  },
  {
   "cell_type": "code",
   "execution_count": null,
   "id": "ca8eec0e",
   "metadata": {},
   "outputs": [],
   "source": [
    "device_id = 'DEVXXXX'\n",
    "server_host='localhost'\n",
    "session = Session(server_host)\n",
    "device = session.connect_device(device_id)"
   ]
  },
  {
   "cell_type": "markdown",
   "id": "e12df492",
   "metadata": {},
   "source": [
    "# Define all the measurement parameters of the Lock-in"
   ]
  },
  {
   "cell_type": "code",
   "execution_count": null,
   "id": "43e74abc",
   "metadata": {},
   "outputs": [],
   "source": [
    "#define initial parameters\n",
    "\n",
    "amplitude = 0.1\n",
    "rangeamp = 1\n",
    "out_channel = 0\n",
    "out_mixer_channel = 0\n",
    "in_channel = 0\n",
    "demod_index = 0\n",
    "osc_index = 0\n",
    "time_constant = 5e-5\n",
    "filterorder = 4\n",
    "frequency =  1.84410200e6\n",
    "rate=1/(4*2*time_constant)\n",
    "\n",
    "\n",
    "with device.set_transaction():\n",
    "    device.sigins[in_channel].ac(False)\n",
    "    device.sigins[in_channel].diff(0)\n",
    "    device.sigins[in_channel].imp50(0)\n",
    "    device.sigins[in_channel].range(1)\n",
    "    device.demods[demod_index].enable(True)\n",
    "    device.demods[demod_index].adcselect(in_channel)\n",
    "    device.demods[demod_index].order(filterorder)\n",
    "    device.demods[demod_index].oscselect(osc_index)\n",
    "    device.demods[demod_index].timeconstant(time_constant)\n",
    "    device.demods[demod_index].rate(rate)\n",
    "    device.demods[demod_index].harmonic(1)\n",
    "    device.sigouts[out_mixer_channel].enables[0](True)\n",
    "    device.sigouts[out_channel].on(True)\n",
    "    device.sigouts[out_channel].range(rangeamp)\n",
    "    device.oscs[osc_index].freq(frequency)\n",
    "    "
   ]
  },
  {
   "cell_type": "markdown",
   "id": "1c7929c5",
   "metadata": {},
   "source": [
    "## Poll the data to start the measurements"
   ]
  },
  {
   "cell_type": "markdown",
   "id": "7def2c7d",
   "metadata": {},
   "source": [
    "In the next section the node is polled and the data is dumped in a temporary file to save memory allocations. For longer measurements its always advised to dump files in a temporary location rather than saving on to a single string."
   ]
  },
  {
   "cell_type": "code",
   "execution_count": null,
   "id": "6ad6a209",
   "metadata": {},
   "outputs": [],
   "source": [
    "time_meas= 3 #Define the total measurement time in [s]\n",
    "\n",
    "def L1_SimplePoll(demod_index):\n",
    "    # subscribe to the demodulator poll node\n",
    "    poll_node = device.demods[demod_index].sample\n",
    "\n",
    "    try:\n",
    "        poll_node.subscribe()\n",
    "        \n",
    "        # Poll the subscribed data from the data server. Poll will block and record\n",
    "        # for poll_length seconds.\n",
    "        total_length = time_meas # [s] # It will have to looped for the measurement\n",
    "        poll_length = 1 # [s]\n",
    "        poll_timeout = 0.1  # [ms]\n",
    "\n",
    "        numbofPolls = int(np.ceil(total_length/poll_length))\n",
    "\n",
    "        #data_i = []\n",
    "        ij=1\n",
    "        for i_poll in range(numbofPolls):        \n",
    "            data_i= session.poll(recording_time=poll_length, timeout=poll_timeout)        \n",
    "            data_i_poll = data_i[poll_node]\n",
    "            #data_i.append(data_i_poll)\n",
    "            file = open(\"file_%s.dat\" % ij,'wb')\n",
    "            ij=ij+1\n",
    "            pickle.dump(data_i_poll, file)\n",
    "            file.close()\n",
    "    finally:\n",
    "        device.unsubscribe()\n",
    "\n",
    "    # get instrument's timebase  \n",
    "    timebase = device.system.properties.timebase()\n",
    "\n",
    "    #return(data_i, timebase)\n",
    "    return timebase\n",
    "\n",
    "#Function to convert timestamp to real time\n",
    "\n",
    "def timestamp_to_elapstime(timestamp, timebase):\n",
    "    timestamp = timestamp - timestamp[0]\n",
    "    elapstime = timestamp*timebase\n",
    "    return elapstime"
   ]
  },
  {
   "cell_type": "markdown",
   "id": "20aa412d",
   "metadata": {},
   "source": [
    "## Call the SimplePoll function to aquire"
   ]
  },
  {
   "cell_type": "code",
   "execution_count": null,
   "id": "216e5f59",
   "metadata": {},
   "outputs": [],
   "source": [
    "# Call the function to poll the data\n",
    "timebase=L1_SimplePoll(device_id, demod_index)\n",
    "\n",
    "print('Aquisition Complete')"
   ]
  },
  {
   "cell_type": "markdown",
   "id": "51bb3256",
   "metadata": {},
   "source": [
    "# Combine the data into a single file"
   ]
  },
  {
   "cell_type": "markdown",
   "id": "242784a8",
   "metadata": {},
   "source": [
    "From the polled data we extract the relevant information. In this case the informations are the quadratures, frequencies and timestamps. End of the sectio the timestamps are converted into real time using the clockbase."
   ]
  },
  {
   "cell_type": "code",
   "execution_count": null,
   "id": "91b4d9e7",
   "metadata": {},
   "outputs": [],
   "source": [
    "now = datetime.date.today()  \n",
    "ij = 1\n",
    "\n",
    "# Prepare the Data structure array to write the data\n",
    "\n",
    "Data = {'frequency':[],'x':[],'y':[], 'elapsedtime':[]}\n",
    "\n",
    "for ii in range(time_meas):\n",
    "    #print(ij)\n",
    "    file=open(\"file_%s.dat\" % ij,'rb')\n",
    "    data_i_poll = pickle.load(file)\n",
    "    Data['elapsedtime'].append(data_i_poll['timestamp'])\n",
    "    Data['frequency'].append(data_i_poll['frequency'])\n",
    "    Data['x'].append(data_i_poll['x'])\n",
    "    Data['y'].append(data_i_poll['y'])\n",
    "    file.close()\n",
    "    ij=ij+1\n",
    "\n",
    "    \n",
    "Data['elapsedtime']=np.array(list(chain.from_iterable(Data['elapsedtime'])))\n",
    "Data['x']=np.array(list(chain.from_iterable(Data['x'])))\n",
    "Data['y']=np.array(list(chain.from_iterable(Data['y'])))\n",
    "Data['frequency']=np.array(list(chain.from_iterable(Data['frequency'])))\n",
    "\n",
    "Data['elapsedtime'] = timestamp_to_elapstime(Data['elapsedtime'] , timebase)\n",
    "time0=Data['elapsedtime'][1]"
   ]
  },
  {
   "cell_type": "markdown",
   "id": "740252f1",
   "metadata": {},
   "source": [
    "# Plot the data"
   ]
  },
  {
   "cell_type": "code",
   "execution_count": null,
   "id": "e623ba1c",
   "metadata": {},
   "outputs": [],
   "source": [
    "# using a subplot structure for the plot\n",
    "\n",
    "plt.subplot(3,1,1)\n",
    "plt.plot(Data['elapsedtime'],np.arctan(Data['y'],Data['x']))\n",
    "plt.subplot(3,1,2)\n",
    "plt.plot(Data['elapsedtime'],Data['frequency'])\n",
    "plt.subplot(3,1,3)\n",
    "plt.plot(Data['elapsedtime'],np.sqrt(Data['x']**2+Data['y']**2)*0.7e6)\n",
    "plt.show()\n",
    "\n",
    "# Calculate sampling rate \n",
    "\n",
    "rate = Data['elapsedtime'][1:-1]-Data['elapsedtime'][0:-2] # not sure whats happening here\n",
    "rate = np.round(1/rate[0]) #[Hz]   \n",
    "Data['rate'] = rate"
   ]
  },
  {
   "cell_type": "markdown",
   "id": "76cd816c",
   "metadata": {},
   "source": [
    "# Compute overlapping Allan Deviation "
   ]
  },
  {
   "cell_type": "code",
   "execution_count": null,
   "id": "26cd4696",
   "metadata": {},
   "outputs": [],
   "source": [
    "# Calculate Allan variance (ad is squared)\n",
    "\n",
    "print('started to compute Allan variance')\n",
    "taus = np.logspace(-1,time_meas,10000)\n",
    "Data['phase']=np.arctan(Data['y'],Data['x'])\n",
    "\n",
    "AllanFunction = 'allantools.oadev'   \n",
    "(t2, ad, ade, adn) = allantools.oadev(Data['phase'],\n",
    "                                      rate=Data['rate'], \n",
    "                                      data_type=\"phase\",\n",
    "                                      taus=taus,\n",
    "                                      )\n",
    "                                   \n",
    "\n",
    "Data[AllanFunction]={'t2':t2,\n",
    "                     'av':ad**2 ,\n",
    "                     'ad':ad,                                   \n",
    "                     'ade':ade,\n",
    "                     'adn':adn,\n",
    "                    }\n",
    "\n",
    "print('fin')"
   ]
  },
  {
   "cell_type": "code",
   "execution_count": null,
   "id": "11160aca",
   "metadata": {},
   "outputs": [],
   "source": [
    "#%% Plot the results\n",
    "SMALL_SIZE = 24\n",
    "MEDIUM_SIZE = 24\n",
    "BIGGER_SIZE = 24\n",
    "params = {'font.size': SMALL_SIZE ,\n",
    "          'axes.linewidth' : 1,\n",
    "          'axes.titlesize': SMALL_SIZE,\n",
    "          'axes.labelsize':MEDIUM_SIZE,\n",
    "          \n",
    "          \"text.usetex\": False,\n",
    "\n",
    "          'legend.fontsize':SMALL_SIZE,\n",
    "          \n",
    "          'xtick.major.width' : 1,\n",
    "          'xtick.labelsize' : SMALL_SIZE,\n",
    "          'xtick.major.top': True,\n",
    "          'xtick.minor.top': True,      \n",
    "          'xtick.direction' :'in',\n",
    "          \n",
    "          'ytick.major.width': 1,\n",
    "          'ytick.labelsize' : SMALL_SIZE,\n",
    "          'ytick.major.right': True,\n",
    "          'ytick.minor.right': True,\n",
    "          'ytick.direction' :'in',\n",
    "          \n",
    "          'savefig.format' :'png',\n",
    "          # 'figure.figsize' :(5,8.27)\n",
    "          }\n",
    "mpl.rcParams.update(params)\n",
    "\n",
    "fig = plt.figure(figsize=[18,9]) \n",
    "ax = plt.axes()\n",
    "ax.plot(Data[AllanFunction]['t2'],\n",
    "        Data[AllanFunction]['av']*1e9,\n",
    "        linewidth = 4,\n",
    "        ) \n",
    "    \n",
    "\n",
    "ax.set_xscale(\"log\")\n",
    "ax.set_yscale(\"log\")\n",
    "#ax.legend()\n",
    "ax.set_xlabel(r'Integration time, $\\tau$ [s]')\n",
    "ax.set_ylabel(r'Allan variance, $\\sigma_r(\\tau)^2$ [ppb]')\n",
    "ax.axes.grid(which='both',\n",
    "             linestyle = '--' )\n",
    "ax.axes.tick_params(which='both')\n",
    "#ax.set_title('Frequency stability, 17 kHz, PLL bandwidth ~ 300 Hz')\n",
    "          \n",
    "plt.show()\n",
    "\n"
   ]
  }
 ],
 "metadata": {
  "jupytext": {
   "formats": "ipynb,md"
  },
  "kernelspec": {
   "display_name": "Python 3 (ipykernel)",
   "language": "python",
   "name": "python3"
  },
  "language_info": {
   "name": "python",
   "version": "3.10.9"
  }
 },
 "nbformat": 4,
 "nbformat_minor": 5
}
