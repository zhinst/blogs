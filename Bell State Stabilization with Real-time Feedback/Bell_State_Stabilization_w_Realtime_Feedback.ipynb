{
 "cells": [
  {
   "cell_type": "markdown",
   "metadata": {},
   "source": [
    "# Bell State Stabilization of Superconducting Circuits with Real-time Feedback\n",
    "This script, based on [zhinst-qcodes](https://github.com/zhinst/zhinst-qcodes), demonstrates how to realize **Bell state stabilization** using the Lookup Table Decoder of the PQSC. For this purpose, we detect arbitrary errors on a pair of entangled data qubits in a Bell state by reading out another pair of ancilla qubits using UHFQA. The readout results are forwarded to the PQSC for further processing and generation of feedback decision. The decision is then communicated to the HDAWGs and used for waveform selection to send out the necessary control signals to restore both the data qubits and ancilla qubits back to their original states. The concept is discussed in detail in the relative [blog post](https://blogs.zhinst.com/bahadir/2021/08/16/bell-state-stabilization-of-superconducting-qubits-with-real-time-feedback/).\n",
    "\n",
    "Let’s dive in now to see how it works! \n",
    "\n",
    "\n",
    "\n",
    "Copyright (C) 2021 Zurich Instruments\n",
    "This software may be modified and distributed under the terms of the MIT license. See the LICENSE file for details."
   ]
  },
  {
   "cell_type": "markdown",
   "metadata": {},
   "source": [
    "## Table of Contents:\n",
    "* [1. Experimental Setup](#setup)\n",
    "* [2. Import Packages](#import)\n",
    "* [3. Initialization](#initialization)\n",
    "* [4. Readout Parameters](#readout)\n",
    "* [5. PQSC Configuration](#pqsc_config)\n",
    "* [6. HDAWG Configuration](#hdawg_config)\n",
    "    * [6.1 Configuration of HDAWG 1 AWG 0 for Control of Data Qubit D<sub>1</sub>](#hdawg1_awg0_config)\n",
    "    * [6.2 Configuration of HDAWG 2 AWG 0 for Control of Data Qubit D<sub>2</sub>](#hdawg2_awg0_config)\n",
    "    * [6.3 Configuration of HDAWG 1 AWG 1 for Control of Z-Ancilla](#hdawg1_awg1_config)\n",
    "    * [6.4 Configuration of HDAWG 2 AWG 1 for Control of X-Ancilla](#hdawg2_awg1_config)\n",
    "* [7. UHFQA Configuration](#uhfqa_config)\n",
    "* [8. Main Program](#main)"
   ]
  },
  {
   "cell_type": "markdown",
   "metadata": {},
   "source": [
    "## 1. Experimental Setup: <a class=\"anchor\" id=\"setup\"></a>\n",
    "Here is the required experimental setup, including all the wiring.\n",
    "\n",
    "![The setup](experimental_setup.svg)"
   ]
  },
  {
   "cell_type": "markdown",
   "metadata": {},
   "source": [
    "The assignments of the devices for certain tasks are as follows:\n",
    "\n",
    "![Bell state stabilization](channel_assignments.svg)"
   ]
  },
  {
   "cell_type": "markdown",
   "metadata": {},
   "source": [
    "### 2. Import Packages <a class=\"anchor\" id=\"import\"></a>"
   ]
  },
  {
   "cell_type": "markdown",
   "metadata": {},
   "source": [
    "Import zhinst-qcodes drivers"
   ]
  },
  {
   "cell_type": "code",
   "execution_count": 1,
   "metadata": {},
   "outputs": [],
   "source": [
    "import zhinst.qcodes as ziqc"
   ]
  },
  {
   "cell_type": "markdown",
   "metadata": {},
   "source": [
    "Import other external packages"
   ]
  },
  {
   "cell_type": "code",
   "execution_count": 2,
   "metadata": {},
   "outputs": [],
   "source": [
    "import numpy as np\n",
    "import textwrap\n",
    "import itertools"
   ]
  },
  {
   "cell_type": "markdown",
   "metadata": {},
   "source": [
    "### 3. Initialization <a class=\"anchor\" id=\"initialization\"></a>"
   ]
  },
  {
   "cell_type": "markdown",
   "metadata": {},
   "source": [
    "* Set the data server host address\n",
    "* The serial numbers of the instruments to run the script with"
   ]
  },
  {
   "cell_type": "code",
   "execution_count": 3,
   "metadata": {},
   "outputs": [],
   "source": [
    "# Dataserver host\n",
    "dataserver_host = \"localhost\"\n",
    "\n",
    "# Instrument serials\n",
    "serial_hdawg_1 = \"dev8030\"\n",
    "serial_hdawg_2 = \"dev8138\"\n",
    "serial_uhfqa = \"dev2445\"\n",
    "serial_pqsc = \"dev10003\""
   ]
  },
  {
   "cell_type": "markdown",
   "metadata": {},
   "source": [
    "* Connect the instruments to data server and initialize their drivers"
   ]
  },
  {
   "cell_type": "code",
   "execution_count": 4,
   "metadata": {},
   "outputs": [
    {
     "name": "stdout",
     "output_type": "stream",
     "text": [
      "Successfully connected to data server at localhost:8004 api version: 6\n",
      "Successfully connected to device DEV8030 on interface 1GBE\n",
      "Connected to: Zurich Instruments HDAWG (serial:dev8030, firmware:67687) in 9.95s\n",
      "Successfully connected to data server at localhost:8004 api version: 6\n",
      "Successfully connected to device DEV8138 on interface 1GBE\n",
      "Connected to: Zurich Instruments HDAWG (serial:dev8138, firmware:67687) in 9.26s\n",
      "Successfully connected to data server at localhost:8004 api version: 6\n",
      "Successfully connected to device DEV2445 on interface 1GBE\n",
      "Connected to: Zurich Instruments UHFQA (serial:dev2445, firmware:67674) in 9.75s\n",
      "Successfully connected to data server at localhost:8004 api version: 6\n",
      "Successfully connected to device DEV10003 on interface 1GBE\n",
      "Connected to: Zurich Instruments PQSC (serial:dev10003, firmware:67687) in 4.53s\n"
     ]
    }
   ],
   "source": [
    "# Connect the instruments to data server\n",
    "hdawg_1 = ziqc.HDAWG(\"hdawg1\", serial_hdawg_1, interface=\"1gbe\", host=dataserver_host)\n",
    "hdawg_2 = ziqc.HDAWG(\"hdawg2\", serial_hdawg_2, interface=\"1gbe\", host=dataserver_host)\n",
    "uhfqa = ziqc.UHFQA(\"uhfqa\", serial_uhfqa, interface=\"1gbe\", host=dataserver_host)\n",
    "pqsc = ziqc.PQSC(\"pqsc\", serial_pqsc, interface=\"1gbe\", host=dataserver_host)"
   ]
  },
  {
   "cell_type": "markdown",
   "metadata": {},
   "source": [
    "* To create a base configuration, load factory preset to all devices"
   ]
  },
  {
   "cell_type": "code",
   "execution_count": 5,
   "metadata": {},
   "outputs": [],
   "source": [
    "# Load factory default settings to all devices\n",
    "hdawg_1.factory_reset()\n",
    "hdawg_2.factory_reset()\n",
    "uhfqa.factory_reset()\n",
    "pqsc.factory_reset()"
   ]
  },
  {
   "cell_type": "markdown",
   "metadata": {},
   "source": [
    "### 4. Readout Parameters <a class=\"anchor\" id=\"readout\"></a>"
   ]
  },
  {
   "cell_type": "markdown",
   "metadata": {},
   "source": [
    "Necessary parameters to be defined for multiplexed readout of 2 ancilla qubits and storing the results in the register bank of PQSC are:\n",
    "* Readout frequencies \n",
    "* Additional phase offset added to I and Q signals for simulated qubit responses\n",
    "* Pulse length of the readout tones\n",
    "* Number of samples for the raising/falling part of the gaussian flattop pulses\n",
    "* Sample rate of UHFQA\n",
    "* Trigger period sent out by the PQSC and feedback processing time. Note that this should be long enough to allow feedback processing to be completed.\n",
    "* Register address in the PQSC register bank to store readout results"
   ]
  },
  {
   "cell_type": "code",
   "execution_count": 6,
   "metadata": {},
   "outputs": [],
   "source": [
    "# Readout frequencies\n",
    "frequencies = np.array([10, 31.5]) * 1e6\n",
    "# Additional phase offset added to I and Q signals for simulated qubit responses\n",
    "phases = [0, 180]\n",
    "# Pulse lenght of the readout tones\n",
    "readout_pulse_length = 1024\n",
    "# Number of samples for the raising/falling part of the gaussian flat top pulses\n",
    "rise_fall_length = 100\n",
    "# Sample rate of UHFQA\n",
    "SR_UHFQA = 1.8e9\n",
    "# Trigger period sent out from PQSC and feedback processing time (2us should be enough)\n",
    "trigger_period = 2e-6\n",
    "# Select register address in the PQSC to store readout results\n",
    "register_num = 1"
   ]
  },
  {
   "cell_type": "markdown",
   "metadata": {},
   "source": [
    "Other dependent variables:\n",
    "* Waiting time for the UHFQA to allow feedback data processing after receving the start trigger from the PQSC\n",
    "* Number of readout channels to use for readout of ancilla qubits (equal to the number of ancilla qubits coupled to the same feedline).\n",
    "* Number of readouts (depends on the number of ancilla qubits and number of states we are simulating)"
   ]
  },
  {
   "cell_type": "code",
   "execution_count": 7,
   "metadata": {},
   "outputs": [],
   "source": [
    "# Waiting time for the UHFQA after receving the start trigger\n",
    "# Divide to 16, round down, and multiply again with 16 to obtain correct waveform granularity for UHFQA\n",
    "wait_samples_uhfqa = int((trigger_period * SR_UHFQA - readout_pulse_length) // 16) * 16\n",
    "# Number of readout channels\n",
    "num_readout_channels = len(frequencies)\n",
    "# Number of times the readout is performed\n",
    "num_readouts = len(phases) ** num_readout_channels"
   ]
  },
  {
   "cell_type": "markdown",
   "metadata": {},
   "source": [
    "### 5. PQSC Configuration <a class=\"anchor\" id=\"pqsc_config\"></a>"
   ]
  },
  {
   "cell_type": "markdown",
   "metadata": {},
   "source": [
    "* Configure the PQSC to use external reference clock\n",
    "* Wait until the reference clock is locked"
   ]
  },
  {
   "cell_type": "code",
   "execution_count": 8,
   "metadata": {},
   "outputs": [],
   "source": [
    "# Use external reference clock.\n",
    "pqsc.ref_clock(\"external\")\n",
    "# Wait until locking is succesfull (30 seconds timeout)\n",
    "pqsc.check_ref_clock(blocking=True, timeout=30)"
   ]
  },
  {
   "cell_type": "markdown",
   "metadata": {},
   "source": [
    "* Port numbers where HDAWGs are connected to: [HDAWG1, HDAWG2]"
   ]
  },
  {
   "cell_type": "code",
   "execution_count": 9,
   "metadata": {},
   "outputs": [],
   "source": [
    "# ZSync output ports to the receiver HDAWGs \n",
    "zsync_ports = [0, 10]"
   ]
  },
  {
   "cell_type": "markdown",
   "metadata": {},
   "source": [
    "Settings related to execution engine:\n",
    "* Number of triggers to be sent out. It must be equal to the number of readouts\n",
    "* Trigger period sent out from PQSC and feedback process time. It is already set above together with other readout parameters. It must be long enough to allow feedback data processing."
   ]
  },
  {
   "cell_type": "code",
   "execution_count": 10,
   "metadata": {
    "scrolled": true
   },
   "outputs": [],
   "source": [
    "# How many triggers to send to start synchronized actions on the HDAWG and the UHFQA\n",
    "pqsc.repetitions(num_readouts)\n",
    "# How long to wait for feedback to arrive from UHFQA\n",
    "pqsc.holdoff(trigger_period)"
   ]
  },
  {
   "cell_type": "markdown",
   "metadata": {},
   "source": [
    "**Settings related to condition unit (LUT decoder)**\n",
    "\n",
    "![PQSC_lut_decoder_diagram_final.svg](PQSC_lut_decoder_diagram_final.svg)\n",
    "\n",
    "Configuration of Source Register Selector:\n",
    "* The source register selector is used to reduce the large set of readout registers to an address word of 16 bits. This address word serves as the index for look-up table to access its entries.\n",
    "* The user can select 16 sources by indicating register numbers and indices of the desired bit inside of each register. \n",
    "* **Important note**:  If an address bit is not configured, it is automatically set to register 0, index 0. Therefore, it is better not to use Register 0 Index 0 to store any qubit readout result. Otherwise, the adress values will be wrong.\n",
    "* In the code below the Source Register Selector is configured such that:\n",
    "    * Register 2, Bit 1 of Readout Register Bank → Bit 0 of Address Word\n",
    "    * Register 2, Bit 2 of Readout Register Bank → Bit 1 of Address Word"
   ]
  },
  {
   "cell_type": "code",
   "execution_count": 11,
   "metadata": {},
   "outputs": [],
   "source": [
    "# Configure source register selector\n",
    "pqsc.feedback.decoder.lut.sources[0].register(register_num)\n",
    "pqsc.feedback.decoder.lut.sources[0].index(0)\n",
    "pqsc.feedback.decoder.lut.sources[1].register(register_num)\n",
    "pqsc.feedback.decoder.lut.sources[1].index(1)"
   ]
  },
  {
   "cell_type": "markdown",
   "metadata": {},
   "source": [
    "* Generating a look up table and programing the LUT decoder:\n",
    "     * The tables are programmed with an array of maximum size of 2<sup>16</sup> bytes. If the number of address bits that will be used is smaller than 16, it is possible to program the condition unit with an array of smaller size.\n",
    "     * Since we have two ancilla qubits, there are a total of 2<sup>2</sup> = 4 possible combinations of the readout results. Hence, it is enough for our look-up table to have 4 entries. "
   ]
  },
  {
   "cell_type": "code",
   "execution_count": 12,
   "metadata": {},
   "outputs": [
    {
     "name": "stdout",
     "output_type": "stream",
     "text": [
      "Look-tup table content: [0 1 2 3]\n"
     ]
    }
   ],
   "source": [
    "# Generate a look up table and program LUT decoder\n",
    "lut_length = 2 ** num_readout_channels\n",
    "lut = range(lut_length)\n",
    "lut = np.array(lut).astype(np.uint32)\n",
    "pqsc.feedback.decoder.lut.tables0(lut)\n",
    "print(f\"Look-tup table content: {lut}\")"
   ]
  },
  {
   "cell_type": "markdown",
   "metadata": {},
   "source": [
    "* Configure table output selector for each port to select which of the four look up tables should be forwarded to the output\n",
    "* Enable condition unit output forwarding for each port connected to the receving HDAWGs"
   ]
  },
  {
   "cell_type": "code",
   "execution_count": 13,
   "metadata": {
    "scrolled": true
   },
   "outputs": [],
   "source": [
    "# Configure table output selector for each port\n",
    "for port in zsync_ports:\n",
    "    pqsc.zsyncs[port].output.decoder.source(0)\n",
    "\n",
    "# Enable condition unit output forwarding for each port\n",
    "for port in zsync_ports:\n",
    "    pqsc.zsyncs[port].output.decoder.enable(1)"
   ]
  },
  {
   "cell_type": "markdown",
   "metadata": {},
   "source": [
    "### 6. HDAWG Configuration <a class=\"anchor\" id=\"hdawg_config\"></a>"
   ]
  },
  {
   "cell_type": "markdown",
   "metadata": {},
   "source": [
    "* Configure the HDAWGs to connect to the PQSC\n",
    "* Assign the AWG cores as shown in [Experimental Setup](#setup)"
   ]
  },
  {
   "cell_type": "code",
   "execution_count": 14,
   "metadata": {},
   "outputs": [],
   "source": [
    "# Connect HDAWGs to the PQSC\n",
    "hdawg_1.enable_qccs_mode()\n",
    "hdawg_2.enable_qccs_mode()\n",
    "\n",
    "# Assign the AWG cores to control the qubits acording to setup\n",
    "awg_D1 = hdawg_1.awgs[0]\n",
    "awg_D2 = hdawg_2.awgs[0]\n",
    "awg_AZ = hdawg_1.awgs[1]\n",
    "awg_AX = hdawg_2.awgs[1]"
   ]
  },
  {
   "cell_type": "markdown",
   "metadata": {},
   "source": [
    "* Common sequence program to use with all AWG Cores of all HDAWGs. It waits for starting trigger and feedback trigger from PQSC  and plays the correct waveform depending on the feedback data"
   ]
  },
  {
   "cell_type": "code",
   "execution_count": 15,
   "metadata": {},
   "outputs": [],
   "source": [
    "# Sequence program\n",
    "hdawg_program = \"\"\"\\\n",
    "//Create one waveform\n",
    "wave w1 = ones($param1$);\n",
    "assignWaveIndex(w1,0);\n",
    "\n",
    "repeat($param2$) {\n",
    "    //Start trigger\n",
    "    waitZSyncTrigger();\n",
    "        \n",
    "    //Feedback trigger\n",
    "    waitZSyncTrigger();\n",
    "    \n",
    "    //Read feedback data and execute command table entry\n",
    "    //depending on feedback data to play the correct waveform\n",
    "    playWaveZSync(ZSYNC_DATA_PQSC_DECODER);\n",
    "\n",
    "}\n",
    "\"\"\""
   ]
  },
  {
   "cell_type": "markdown",
   "metadata": {},
   "source": [
    "Whenever there is a bit-flip error on one of the data qubits, we correct it by sending a R<sub>x</sub><sup>π</sup> pulse from AWG core 0 of HDAWG 1 to data qubit D<sub>1</sub>. Phase-flip errors, on the other hand, are corrected by sending a R<sub>z</sub><sup>π</sup> pulse from AWG core 0 of HDAWG 2 to data qubit D<sub>2</sub>."
   ]
  },
  {
   "cell_type": "markdown",
   "metadata": {},
   "source": [
    "#### 6.1. Configuration of HDAWG 1 AWG 0 for Control of Data Qubit D<sub>1</sub><a class=\"anchor\" id=\"hdawg1_awg0_config\"></a>"
   ]
  },
  {
   "cell_type": "markdown",
   "metadata": {},
   "source": [
    "* Turn on the output channels\n",
    "* Run the AWG in single mode"
   ]
  },
  {
   "cell_type": "code",
   "execution_count": 16,
   "metadata": {},
   "outputs": [],
   "source": [
    "# Enable outputs\n",
    "awg_D1.outputs([\"on\", \"on\"])\n",
    "# Disable rerun\n",
    "awg_D1.single(True)"
   ]
  },
  {
   "cell_type": "markdown",
   "metadata": {},
   "source": [
    "* Configure *mask*, *shift* and *offset* nodes to select portion of interest in the feedback data as described in the [PQSC User Manual](https://docs.zhinst.com/pdf/ziPQSC_UserManual.pdf)."
   ]
  },
  {
   "cell_type": "code",
   "execution_count": 17,
   "metadata": {},
   "outputs": [],
   "source": [
    "# Configure the DEMUX\n",
    "awg_D1.zsync_decoder_mask(3)\n",
    "awg_D1.zsync_decoder_shift(0)\n",
    "awg_D1.zsync_decoder_offset(0)"
   ]
  },
  {
   "cell_type": "markdown",
   "metadata": {},
   "source": [
    "* Setting the sequence parameters and compiling:\n",
    "    * Use **Custom** sequence type to upload the sequence program.\n",
    "    * Use **ZSync Trigger** mode to enable HDAWG to receive ZSync triggers\n",
    "    * Use **custom_params** argument to replace the parameters **$param1$**, **$param2$** in the sequence program with the correct numbers"
   ]
  },
  {
   "cell_type": "code",
   "execution_count": 18,
   "metadata": {},
   "outputs": [],
   "source": [
    "# Set sequence parameters\n",
    "awg_D1.set_sequence_params(\n",
    "    sequence_type=\"Custom\",\n",
    "    program=hdawg_program,\n",
    "    trigger_mode=\"ZSync Trigger\",\n",
    "    custom_params=[1024, num_readouts],\n",
    ")\n",
    "\n",
    "# Upload sequence program to device and compile it\n",
    "awg_D1.compile()"
   ]
  },
  {
   "cell_type": "markdown",
   "metadata": {},
   "source": [
    "* Configure the command table to assign the correct waveform to each table entry.\n",
    "* For demonstration purposes, we represent the feedback pulses as follows:\n",
    "    * R<sub>x</sub><sup>π</sup> → Rectangular pulse with amplitude 1.0\n",
    "    * No feedback action (identity I) → Rectangular pulse of amplitude 0.5"
   ]
  },
  {
   "cell_type": "code",
   "execution_count": 19,
   "metadata": {},
   "outputs": [],
   "source": [
    "# Command table\n",
    "awg_D1_ct = []\n",
    "awg_D1_ct.append(\n",
    "    {\n",
    "        \"index\": 0,\n",
    "        \"waveform\": {\"index\": 0},\n",
    "        \"amplitude0\": {\"value\": 0.5, \"increment\": False},\n",
    "        \"amplitude1\": {\"value\": 0.5, \"increment\": False},\n",
    "    }\n",
    ")\n",
    "awg_D1_ct.append(\n",
    "    {\n",
    "        \"index\": 1,\n",
    "        \"waveform\": {\"index\": 0},\n",
    "        \"amplitude0\": {\"value\": 1, \"increment\": False},\n",
    "        \"amplitude1\": {\"value\": 1, \"increment\": False},\n",
    "    }\n",
    ")\n",
    "awg_D1_ct.append(\n",
    "    {\n",
    "        \"index\": 2,\n",
    "        \"waveform\": {\"index\": 0},\n",
    "        \"amplitude0\": {\"value\": 0.5, \"increment\": False},\n",
    "        \"amplitude1\": {\"value\": 0.5, \"increment\": False},\n",
    "    }\n",
    ")\n",
    "awg_D1_ct.append(\n",
    "    {\n",
    "        \"index\": 3,\n",
    "        \"waveform\": {\"index\": 0},\n",
    "        \"amplitude0\": {\"value\": 1, \"increment\": False},\n",
    "        \"amplitude1\": {\"value\": 1, \"increment\": False},\n",
    "    }\n",
    ")\n",
    "\n",
    "awg_D1.ct.load(awg_D1_ct)"
   ]
  },
  {
   "cell_type": "markdown",
   "metadata": {},
   "source": [
    "#### 6.2. Configuration of HDAWG 2 AWG 0 for Control of Data Qubit D<sub>2</sub> <a class=\"anchor\" id=\"hdawg2_awg0_config\"></a>"
   ]
  },
  {
   "cell_type": "markdown",
   "metadata": {},
   "source": [
    "* Turn on the output channels\n",
    "* Run the AWG in single mode"
   ]
  },
  {
   "cell_type": "code",
   "execution_count": 20,
   "metadata": {},
   "outputs": [],
   "source": [
    "# Enable outputs\n",
    "awg_D2.outputs([\"on\", \"on\"])\n",
    "# Disable rerun\n",
    "awg_D2.single(True)"
   ]
  },
  {
   "cell_type": "markdown",
   "metadata": {},
   "source": [
    "* Configure *mask*, *shift* and *offset* nodes to select portion of interest in the feedback data as described in the [PQSC User Manual](https://docs.zhinst.com/pdf/ziPQSC_UserManual.pdf)."
   ]
  },
  {
   "cell_type": "code",
   "execution_count": 21,
   "metadata": {},
   "outputs": [],
   "source": [
    "# Configure the DEMUX\n",
    "awg_D2.zsync_decoder_mask(3)\n",
    "awg_D2.zsync_decoder_shift(0)\n",
    "awg_D2.zsync_decoder_offset(0)"
   ]
  },
  {
   "cell_type": "markdown",
   "metadata": {},
   "source": [
    "* Setting the sequence parameters and compiling:\n",
    "    * Use **Custom** sequence type to upload the sequence program.\n",
    "    * Use **ZSync Trigger** mode to enable HDAWG to receive ZSync triggers\n",
    "    * Use **custom_params** argument to replace the parameters **$param1$**, **$param2$** in the sequence program with the correct numbers"
   ]
  },
  {
   "cell_type": "code",
   "execution_count": 22,
   "metadata": {},
   "outputs": [],
   "source": [
    "# Set sequence parameters\n",
    "awg_D2.set_sequence_params(\n",
    "    sequence_type=\"Custom\",\n",
    "    program=hdawg_program,\n",
    "    trigger_mode=\"ZSync Trigger\",\n",
    "    custom_params=[1024, num_readouts],\n",
    ")\n",
    "\n",
    "# Upload sequence program to device and compile it\n",
    "awg_D2.compile()"
   ]
  },
  {
   "cell_type": "markdown",
   "metadata": {},
   "source": [
    "* Configure the command table to assign the correct waveform to each table entry.\n",
    "* For demonstration purposes, we represent the feedback pulses as follows:\n",
    "    * R<sub>z</sub><sup>π</sup> → Rectangular pulse with amplitude 1.0\n",
    "    * No feedback action (identity I) → Rectangular pulse of amplitude 0.5"
   ]
  },
  {
   "cell_type": "code",
   "execution_count": 23,
   "metadata": {},
   "outputs": [],
   "source": [
    "# Command table\n",
    "awg_D2_ct = []\n",
    "awg_D2_ct.append(\n",
    "    {\n",
    "        \"index\": 0,\n",
    "        \"waveform\": {\"index\": 0},\n",
    "        \"amplitude0\": {\"value\": 0.5, \"increment\": False},\n",
    "        \"amplitude1\": {\"value\": 0.5, \"increment\": False},\n",
    "    }\n",
    ")\n",
    "awg_D2_ct.append(\n",
    "    {\n",
    "        \"index\": 1,\n",
    "        \"waveform\": {\"index\": 0},\n",
    "        \"amplitude0\": {\"value\": 0.5, \"increment\": False},\n",
    "        \"amplitude1\": {\"value\": 0.5, \"increment\": False},\n",
    "    }\n",
    ")\n",
    "awg_D2_ct.append(\n",
    "    {\n",
    "        \"index\": 2,\n",
    "        \"waveform\": {\"index\": 0},\n",
    "        \"amplitude0\": {\"value\": -1, \"increment\": False},\n",
    "        \"amplitude1\": {\"value\": -1, \"increment\": False},\n",
    "    }\n",
    ")\n",
    "awg_D2_ct.append(\n",
    "    {\n",
    "        \"index\": 3,\n",
    "        \"waveform\": {\"index\": 0},\n",
    "        \"amplitude0\": {\"value\": -1, \"increment\": False},\n",
    "        \"amplitude1\": {\"value\": -1, \"increment\": False},\n",
    "    }\n",
    ")\n",
    "\n",
    "awg_D2.ct.load(awg_D2_ct)"
   ]
  },
  {
   "cell_type": "markdown",
   "metadata": {},
   "source": [
    "#### 6.3. Configuration of HDAWG 1 AWG 1 for Control of  Z-Ancilla <a class=\"anchor\" id=\"hdawg1_awg1_config\"></a>"
   ]
  },
  {
   "cell_type": "markdown",
   "metadata": {},
   "source": [
    "* Turn on the output channels\n",
    "* Run the AWG in single mode"
   ]
  },
  {
   "cell_type": "code",
   "execution_count": 24,
   "metadata": {},
   "outputs": [],
   "source": [
    "# Enable outputs\n",
    "awg_AZ.outputs([\"on\", \"on\"])\n",
    "# Disable rerun\n",
    "awg_AZ.single(True)"
   ]
  },
  {
   "cell_type": "markdown",
   "metadata": {},
   "source": [
    "* Configure *mask*, *shift* and *offset* nodes to select portion of interest in the feedback data as described in the [PQSC User Manual](https://docs.zhinst.com/pdf/ziPQSC_UserManual.pdf)."
   ]
  },
  {
   "cell_type": "code",
   "execution_count": 25,
   "metadata": {},
   "outputs": [],
   "source": [
    "# Configure the DEMUX\n",
    "awg_AZ.zsync_decoder_mask(3)\n",
    "awg_AZ.zsync_decoder_shift(0)\n",
    "awg_AZ.zsync_decoder_offset(0)"
   ]
  },
  {
   "cell_type": "markdown",
   "metadata": {},
   "source": [
    "* Setting the sequence parameters and compiling:\n",
    "    * Use **Custom** sequence type to upload the sequence program.\n",
    "    * Use **ZSync Trigger** mode to enable HDAWG to receive ZSync triggers\n",
    "    * Use **custom_params** argument to replace the parameters **$param1$**, **$param2$** in the sequence program with the correct numbers"
   ]
  },
  {
   "cell_type": "code",
   "execution_count": 26,
   "metadata": {},
   "outputs": [],
   "source": [
    "# Set sequence parameters\n",
    "awg_AZ.set_sequence_params(\n",
    "    sequence_type=\"Custom\",\n",
    "    program=hdawg_program,\n",
    "    trigger_mode=\"ZSync Trigger\",\n",
    "    custom_params=[1024, num_readouts],\n",
    ")\n",
    "\n",
    "# Upload sequence program to device and compile it\n",
    "awg_AZ.compile()"
   ]
  },
  {
   "cell_type": "markdown",
   "metadata": {},
   "source": [
    "* Configure the command table to assign the correct waveform to each table entry.\n",
    "* For demonstration purposes, we represent the feedback pulses as follows:\n",
    "    * R<sub>x</sub><sup>π</sup> → Rectangular pulse with amplitude 1.0\n",
    "    * No feedback action (identity I) → Rectangular pulse of amplitude 0.5"
   ]
  },
  {
   "cell_type": "code",
   "execution_count": 27,
   "metadata": {},
   "outputs": [],
   "source": [
    "# Command table\n",
    "awg_AZ_ct = []\n",
    "awg_AZ_ct.append(\n",
    "    {\n",
    "        \"index\": 0,\n",
    "        \"waveform\": {\"index\": 0},\n",
    "        \"amplitude0\": {\"value\": 0.5, \"increment\": False},\n",
    "        \"amplitude1\": {\"value\": 0.5, \"increment\": False},\n",
    "    }\n",
    ")\n",
    "awg_AZ_ct.append(\n",
    "    {\n",
    "        \"index\": 1,\n",
    "        \"waveform\": {\"index\": 0},\n",
    "        \"amplitude0\": {\"value\": 1, \"increment\": False},\n",
    "        \"amplitude1\": {\"value\": 1, \"increment\": False},\n",
    "    }\n",
    ")\n",
    "awg_AZ_ct.append(\n",
    "    {\n",
    "        \"index\": 2,\n",
    "        \"waveform\": {\"index\": 0},\n",
    "        \"amplitude0\": {\"value\": 0.5, \"increment\": False},\n",
    "        \"amplitude1\": {\"value\": 0.5, \"increment\": False},\n",
    "    }\n",
    ")\n",
    "awg_AZ_ct.append(\n",
    "    {\n",
    "        \"index\": 3,\n",
    "        \"waveform\": {\"index\": 0},\n",
    "        \"amplitude0\": {\"value\": 1, \"increment\": False},\n",
    "        \"amplitude1\": {\"value\": 1, \"increment\": False},\n",
    "    }\n",
    ")\n",
    "\n",
    "awg_AZ.ct.load(awg_AZ_ct)"
   ]
  },
  {
   "cell_type": "markdown",
   "metadata": {},
   "source": [
    "#### 6.4. Configuration of HDAWG 2 AWG 1 for Control of  X-Ancilla <a class=\"anchor\" id=\"hdawg2_awg1_config\"></a>"
   ]
  },
  {
   "cell_type": "markdown",
   "metadata": {},
   "source": [
    "* Turn on the output channels\n",
    "* Run the AWG in single mode"
   ]
  },
  {
   "cell_type": "code",
   "execution_count": 28,
   "metadata": {},
   "outputs": [],
   "source": [
    "# Enable outputs\n",
    "awg_AX.outputs([\"on\", \"on\"])\n",
    "# Disable rerun\n",
    "awg_AX.single(True)"
   ]
  },
  {
   "cell_type": "markdown",
   "metadata": {},
   "source": [
    "* Configure *mask*, *shift* and *offset* nodes to select portion of interest in the feedback data as described in the [PQSC User Manual](https://docs.zhinst.com/pdf/ziPQSC_UserManual.pdf)."
   ]
  },
  {
   "cell_type": "code",
   "execution_count": 29,
   "metadata": {},
   "outputs": [],
   "source": [
    "# Configure the DEMUX\n",
    "awg_AX.zsync_decoder_mask(3)\n",
    "awg_AX.zsync_decoder_shift(0)\n",
    "awg_AX.zsync_decoder_offset(0)"
   ]
  },
  {
   "cell_type": "markdown",
   "metadata": {},
   "source": [
    "* Setting the sequence parameters and compiling:\n",
    "    * Use **Custom** sequence type to upload the sequence program.\n",
    "    * Use **ZSync Trigger** mode to enable HDAWG to receive ZSync triggers\n",
    "    * Use **custom_params** argument to replace the parameters **$param1$**, **$param2$** in the sequence program with the correct numbers"
   ]
  },
  {
   "cell_type": "code",
   "execution_count": 30,
   "metadata": {},
   "outputs": [],
   "source": [
    "# Set sequence parameters\n",
    "awg_AX.set_sequence_params(\n",
    "    sequence_type=\"Custom\",\n",
    "    program=hdawg_program,\n",
    "    trigger_mode=\"ZSync Trigger\",\n",
    "    custom_params=[1024, num_readouts],\n",
    ")\n",
    "\n",
    "# Upload sequence program to device and compile it\n",
    "awg_AX.compile()"
   ]
  },
  {
   "cell_type": "markdown",
   "metadata": {},
   "source": [
    "* Configure the command table to assign the correct waveform to each table entry.\n",
    "* For demonstration purposes, we represent the feedback pulses as follows:\n",
    "    * R<sub>x</sub><sup>π</sup> → Rectangular pulse with amplitude 1.0\n",
    "    * No feedback action (identity I) → Rectangular pulse of amplitude 0.5"
   ]
  },
  {
   "cell_type": "code",
   "execution_count": 31,
   "metadata": {},
   "outputs": [],
   "source": [
    "# Command table\n",
    "awg_AX_ct = []\n",
    "awg_AX_ct.append(\n",
    "    {\n",
    "        \"index\": 0,\n",
    "        \"waveform\": {\"index\": 0},\n",
    "        \"amplitude0\": {\"value\": 0.5, \"increment\": False},\n",
    "        \"amplitude1\": {\"value\": 0.5, \"increment\": False},\n",
    "    }\n",
    ")\n",
    "awg_AX_ct.append(\n",
    "    {\n",
    "        \"index\": 1,\n",
    "        \"waveform\": {\"index\": 0},\n",
    "        \"amplitude0\": {\"value\": 0.5, \"increment\": False},\n",
    "        \"amplitude1\": {\"value\": 0.5, \"increment\": False},\n",
    "    }\n",
    ")\n",
    "awg_AX_ct.append(\n",
    "    {\n",
    "        \"index\": 2,\n",
    "        \"waveform\": {\"index\": 0},\n",
    "        \"amplitude0\": {\"value\": 1, \"increment\": False},\n",
    "        \"amplitude1\": {\"value\": 1, \"increment\": False},\n",
    "    }\n",
    ")\n",
    "awg_AX_ct.append(\n",
    "    {\n",
    "        \"index\": 3,\n",
    "        \"waveform\": {\"index\": 0},\n",
    "        \"amplitude0\": {\"value\": 1, \"increment\": False},\n",
    "        \"amplitude1\": {\"value\": 1, \"increment\": False},\n",
    "    }\n",
    ")\n",
    "\n",
    "awg_AX.ct.load(awg_AX_ct)"
   ]
  },
  {
   "cell_type": "markdown",
   "metadata": {},
   "source": [
    "### 7. UHFQA Configuration <a class=\"anchor\" id=\"uhfqa_config\"></a>"
   ]
  },
  {
   "cell_type": "markdown",
   "metadata": {},
   "source": [
    "* Configure the UHFQA to connect to the PQSC"
   ]
  },
  {
   "cell_type": "code",
   "execution_count": 32,
   "metadata": {},
   "outputs": [],
   "source": [
    "# Connect UHFQA to the PQSC\n",
    "uhfqa.enable_qccs_mode()"
   ]
  },
  {
   "cell_type": "markdown",
   "metadata": {},
   "source": [
    "* Configure the input and output impedances"
   ]
  },
  {
   "cell_type": "code",
   "execution_count": 33,
   "metadata": {},
   "outputs": [],
   "source": [
    "# Select the input impedance as 50Ω\n",
    "uhfqa.sigins[0].imp50(1)\n",
    "uhfqa.sigins[1].imp50(1)\n",
    "# Select the load impedance as 50Ω\n",
    "uhfqa.sigouts[0].imp50(1)\n",
    "uhfqa.sigouts[1].imp50(1)"
   ]
  },
  {
   "cell_type": "markdown",
   "metadata": {},
   "source": [
    "* Turn on the output channels\n",
    "* Run the AWG in single mode"
   ]
  },
  {
   "cell_type": "code",
   "execution_count": 34,
   "metadata": {},
   "outputs": [],
   "source": [
    "# Enable outputs\n",
    "uhfqa.awg.outputs([\"on\", \"on\"])\n",
    "# Disable rerun\n",
    "uhfqa.awg.single(True)"
   ]
  },
  {
   "cell_type": "markdown",
   "metadata": {},
   "source": [
    "* Helper function to generate flattop gaussian envelopes for readout pulses and integrations weights"
   ]
  },
  {
   "cell_type": "code",
   "execution_count": 35,
   "metadata": {},
   "outputs": [],
   "source": [
    "# Envelope function, with gaussian rise/fall and flattop\n",
    "def envelope_function(length, rise, a=1.0, sigmas=3):\n",
    "    x_risefall = np.arange(-rise, rise, 1)\n",
    "    sigma_wave = rise / sigmas\n",
    "    risefall_w = np.exp(-((x_risefall) ** 2) / (2 * sigma_wave ** 2))\n",
    "    length_corr = length - 2 * rise\n",
    "    flattop = np.ones(length_corr)\n",
    "    res = a * np.concatenate((risefall_w[:rise], flattop, risefall_w[rise:]), axis=None)\n",
    "    # plt.plot(res)\n",
    "    return res"
   ]
  },
  {
   "cell_type": "markdown",
   "metadata": {},
   "source": [
    "* Quantum Analyzer settings:\n",
    "    * Bypass deskew and crosstalk matrix since they are not necessary for simulated readout\n",
    "    * Do not bypass the rotation, it is necessary\n",
    "    * Set QA delay adjustment to 0\n",
    "    * Set result source to thresholding"
   ]
  },
  {
   "cell_type": "code",
   "execution_count": 36,
   "metadata": {},
   "outputs": [],
   "source": [
    "# Bypass all the non-necessary units\n",
    "uhfqa.qas[0].bypass.deskew(1)\n",
    "uhfqa.qas[0].bypass.crosstalk(1)\n",
    "# Don't bypass rotation\n",
    "uhfqa.qas[0].bypass.rotation(0)\n",
    "# Set correct QA delay\n",
    "uhfqa.qa_delay(0)\n",
    "# Set QA Result source\n",
    "uhfqa.result_source(\"Threshold\")"
   ]
  },
  {
   "cell_type": "markdown",
   "metadata": {},
   "source": [
    "* Readout channel settings:\n",
    "    * Enable weighted integration mode on all readout channels\n",
    "    * Set Integration length (equal to the readout pulse length)\n",
    "    * Set threshold level for all channels\n",
    "    * Set the integrations weights with the envelope generated with the helper function `envelope_function`"
   ]
  },
  {
   "cell_type": "code",
   "execution_count": 37,
   "metadata": {},
   "outputs": [],
   "source": [
    "# Enable weighted integration mode on all readout channels\n",
    "uhfqa.enable_readout_channels([i for i in range(num_readout_channels)])\n",
    "# Set Integration length\n",
    "uhfqa.integration_length(readout_pulse_length)\n",
    "# Set threshold level for all channels\n",
    "for i in range(num_readout_channels):\n",
    "    uhfqa.channels[i].threshold(0.0)\n",
    "\n",
    "# Set the integration weights\n",
    "envelope = envelope_function(readout_pulse_length, rise_fall_length)\n",
    "for i, freq in enumerate(frequencies):\n",
    "    uhfqa.channels[i].readout_frequency(freq)\n",
    "    uhfqa.channels[i].int_weights_envelope(envelope)\n",
    "\n",
    "# Set rotation coefficients of all channels\n",
    "# Since UHFQA works with real numbers, the rotation should bring all results on the real axis of the IQ plane\n",
    "for i, freq in enumerate(frequencies):\n",
    "    uhfqa.channels[i].rotation(1 - 1j)"
   ]
  },
  {
   "cell_type": "markdown",
   "metadata": {},
   "source": [
    "* Sequence program which waits for starting trigger from the PQSC, plays the readout pulse, starts quantum analyzer and waits for a while until feedback processing is complete"
   ]
  },
  {
   "cell_type": "code",
   "execution_count": 38,
   "metadata": {},
   "outputs": [],
   "source": [
    "# Sequence for the UHFQA\n",
    "uhfqa_program = \"\"\"\\\n",
    "//Define waveforms for readout\n",
    "\"\"\"\n",
    "\n",
    "# Add a waveform placeholder for each simulated response\n",
    "for i in range(num_readouts):\n",
    "    uhfqa_program += textwrap.dedent(\n",
    "        f\"\"\"\\\n",
    "    wave w{i:d}_I = placeholder($param1$);\n",
    "    wave w{i:d}_Q = placeholder($param1$);\n",
    "    \"\"\"\n",
    "    )\n",
    "\n",
    "uhfqa_program += \"\"\"\\\n",
    "\n",
    "//Start the main program\n",
    "\"\"\"\n",
    "\n",
    "for i in range(num_readouts):\n",
    "    uhfqa_program += textwrap.dedent(\n",
    "        f\"\"\"\\\n",
    "    waitZSyncTrigger();  //Wait for start trigger from PQSC\n",
    "    playWave(1, w{i:d}_I, 2, w{i:d}_Q);  //Play a simulated response\n",
    "    startQA($param2$, $param3$, $param4$);  //Trigger a readout\n",
    "    playZero($param5$); //Wait until feedback processing is completed\n",
    "    \n",
    "    \"\"\"\n",
    "    )"
   ]
  },
  {
   "cell_type": "markdown",
   "metadata": {},
   "source": [
    "* Configure arguments to use with `startQA` function\n",
    "    * `trigger_int_unit`: Determines which integration units should be triggered\n",
    "    * `trigger_qa_input`: Determines if QA Monitor should be triggered\n",
    "    * `readout_register_address`: Determines the address of the register inside the PQSC to write the results in\n"
   ]
  },
  {
   "cell_type": "code",
   "execution_count": 39,
   "metadata": {},
   "outputs": [],
   "source": [
    "# Parameters of UHFQA sequencer\n",
    "trigger_int_unit = \"|\".join(f\"QA_INT_{i:d}\" for i in range(num_readout_channels))\n",
    "trigger_qa_input = \"true\"\n",
    "readout_register_address = register_num"
   ]
  },
  {
   "cell_type": "markdown",
   "metadata": {},
   "source": [
    "* Setting the sequence parameters and compiling:\n",
    "    * Use **Custom** sequence type to upload the sequence program.\n",
    "    * Use **ZSync Trigger** mode to enable HDAWG to receive ZSync triggers\n",
    "    * Use **custom_params** argument to replace the parameters in the sequence program with the correct numbers and strings"
   ]
  },
  {
   "cell_type": "code",
   "execution_count": 40,
   "metadata": {},
   "outputs": [],
   "source": [
    "# Set sequence parameters for the UHFQA and compile\n",
    "uhfqa.awg.set_sequence_params(\n",
    "    sequence_type=\"Custom\",\n",
    "    program=uhfqa_program,\n",
    "    custom_params=[\n",
    "        readout_pulse_length,\n",
    "        trigger_int_unit,\n",
    "        trigger_qa_input,\n",
    "        readout_register_address,\n",
    "        wait_samples_uhfqa,\n",
    "    ],\n",
    "    trigger_mode=\"ZSync Trigger\",\n",
    ")\n",
    "\n",
    "uhfqa.awg.compile()"
   ]
  },
  {
   "cell_type": "markdown",
   "metadata": {},
   "source": [
    "* Generating the readout pulses and uploading them to the instrument:\n",
    "    * The for loop cycles through all combinations of the phases [0, 180] to generate simulated responses"
   ]
  },
  {
   "cell_type": "code",
   "execution_count": 41,
   "metadata": {},
   "outputs": [
    {
     "name": "stdout",
     "output_type": "stream",
     "text": [
      "Current length of queue: 1\n",
      "Current length of queue: 2\n",
      "Current length of queue: 3\n",
      "Current length of queue: 4\n",
      "Upload of 4 waveforms took 0.10871 s\n"
     ]
    }
   ],
   "source": [
    "# Generate waves\n",
    "x = np.arange(0, readout_pulse_length, 1)\n",
    "envelope = envelope_function(readout_pulse_length, rise_fall_length)\n",
    "waves = []\n",
    "\n",
    "# Cycle through phases [0, 180] to generate simulated responses\n",
    "for phs in itertools.product(phases, repeat=num_readout_channels):\n",
    "    wave_I = np.zeros(readout_pulse_length)\n",
    "    wave_Q = np.zeros(readout_pulse_length)\n",
    "\n",
    "    for freq, ph in zip(frequencies, phs):\n",
    "        wave_I += np.cos(2 * np.pi * freq / SR_UHFQA * x + np.deg2rad(ph))\n",
    "        wave_Q += np.sin(2 * np.pi * freq / SR_UHFQA * x + np.deg2rad(ph))\n",
    "\n",
    "    wave_I *= envelope / num_readouts\n",
    "    wave_Q *= envelope / num_readouts\n",
    "\n",
    "    waves.append((wave_I, wave_Q))\n",
    "\n",
    "# Upload waveforms\n",
    "uhfqa.awg.reset_queue()\n",
    "for i, wave in enumerate(waves):\n",
    "    uhfqa.awg.queue_waveform(wave[0], wave[1])\n",
    "uhfqa.awg.upload_waveforms()"
   ]
  },
  {
   "cell_type": "markdown",
   "metadata": {},
   "source": [
    "### 8. Main Program <a class=\"anchor\" id=\"main\"></a>"
   ]
  },
  {
   "cell_type": "markdown",
   "metadata": {},
   "source": [
    "Final check before running the main program:\n",
    "* Are the connections on ZSync ports fine?"
   ]
  },
  {
   "cell_type": "code",
   "execution_count": 42,
   "metadata": {},
   "outputs": [],
   "source": [
    "# Check ZSync connections\n",
    "pqsc.check_zsync_connection(ports=zsync_ports, blocking=True, timeout=30)"
   ]
  },
  {
   "cell_type": "markdown",
   "metadata": {},
   "source": [
    "Stop all AWGs in case a previous measurement is still going on"
   ]
  },
  {
   "cell_type": "code",
   "execution_count": 43,
   "metadata": {},
   "outputs": [],
   "source": [
    "# Stop all AWGs\n",
    "awg_D1.stop()\n",
    "awg_D2.stop()\n",
    "awg_AZ.stop()\n",
    "awg_AX.stop()\n",
    "uhfqa.awg.stop()"
   ]
  },
  {
   "cell_type": "markdown",
   "metadata": {},
   "source": [
    "Arm UHFQA for readout, it will wait to be triggered by the AWG sequencer of the UHFQA"
   ]
  },
  {
   "cell_type": "code",
   "execution_count": 44,
   "metadata": {},
   "outputs": [],
   "source": [
    "# Arm UHFQA readout\n",
    "uhfqa.arm(length=num_readouts, averages=1)"
   ]
  },
  {
   "cell_type": "markdown",
   "metadata": {},
   "source": [
    "Start all AWGs, they will wait for triggers from PQSC"
   ]
  },
  {
   "cell_type": "code",
   "execution_count": 45,
   "metadata": {},
   "outputs": [],
   "source": [
    "# Run all AWGs\n",
    "uhfqa.awg.run()\n",
    "awg_D1.run()\n",
    "awg_D2.run()\n",
    "awg_AZ.run()\n",
    "awg_AX.run()"
   ]
  },
  {
   "cell_type": "markdown",
   "metadata": {},
   "source": [
    "Finally, start sending out triggers from the PQSC"
   ]
  },
  {
   "cell_type": "code",
   "execution_count": 46,
   "metadata": {},
   "outputs": [],
   "source": [
    "# Start PQSC\n",
    "pqsc.arm_and_run()"
   ]
  }
 ],
 "metadata": {
  "kernelspec": {
   "display_name": "Python 3.7 (zhinst_seven)",
   "language": "python",
   "name": "zhinst_seven"
  },
  "language_info": {
   "codemirror_mode": {
    "name": "ipython",
    "version": 3
   },
   "file_extension": ".py",
   "mimetype": "text/x-python",
   "name": "python",
   "nbconvert_exporter": "python",
   "pygments_lexer": "ipython3",
   "version": "3.7.10"
  }
 },
 "nbformat": 4,
 "nbformat_minor": 4
}
